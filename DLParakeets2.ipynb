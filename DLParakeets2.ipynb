{
  "nbformat": 4,
  "nbformat_minor": 0,
  "metadata": {
    "colab": {
      "name": "DLParakeets2.ipynb",
      "provenance": [],
      "collapsed_sections": [],
      "authorship_tag": "ABX9TyOl207Fo7c5WslSK6TtO1QR",
      "include_colab_link": true
    },
    "kernelspec": {
      "name": "python3",
      "display_name": "Python 3"
    },
    "language_info": {
      "name": "python"
    }
  },
  "cells": [
    {
      "cell_type": "markdown",
      "metadata": {
        "id": "view-in-github",
        "colab_type": "text"
      },
      "source": [
        "<a href=\"https://colab.research.google.com/github/rhanessian/dl-parakeets/blob/main/DLParakeets2.ipynb\" target=\"_parent\"><img src=\"https://colab.research.google.com/assets/colab-badge.svg\" alt=\"Open In Colab\"/></a>"
      ]
    },
    {
      "cell_type": "code",
      "metadata": {
        "colab": {
          "base_uri": "https://localhost:8080/"
        },
        "id": "huVJXgpdBFSu",
        "outputId": "938e9079-2b40-49b5-813c-d10ba68c4136"
      },
      "source": [
        "! ls -hl"
      ],
      "execution_count": 1,
      "outputs": [
        {
          "output_type": "stream",
          "text": [
            "total 4.0K\n",
            "drwxr-xr-x 1 root root 4.0K Mar 18 13:36 sample_data\n"
          ],
          "name": "stdout"
        }
      ]
    },
    {
      "cell_type": "code",
      "metadata": {
        "colab": {
          "base_uri": "https://localhost:8080/"
        },
        "id": "8i3t29hoO1IN",
        "outputId": "916eb2b4-091e-4eb2-c3ec-718ccee127e9"
      },
      "source": [
        "## Load tar files of data\n",
        "from google.colab import drive\n",
        "drive.mount('/content/gdrive')"
      ],
      "execution_count": 2,
      "outputs": [
        {
          "output_type": "stream",
          "text": [
            "Mounted at /content/gdrive\n"
          ],
          "name": "stdout"
        }
      ]
    },
    {
      "cell_type": "code",
      "metadata": {
        "colab": {
          "base_uri": "https://localhost:8080/"
        },
        "id": "w8mJT8z4PS3J",
        "outputId": "149f888c-2907-4d82-afc7-ab9a38603aa9"
      },
      "source": [
        "## Check files have loaded\n",
        "! ls -hl"
      ],
      "execution_count": 5,
      "outputs": [
        {
          "output_type": "stream",
          "text": [
            "total 12K\n",
            "drwx------ 5 root root 4.0K Mar 29 17:26 gdrive\n",
            "drwxr-xr-x 2 root root 4.0K Mar 29 17:26 parakeets\n",
            "drwxr-xr-x 1 root root 4.0K Mar 18 13:36 sample_data\n"
          ],
          "name": "stdout"
        }
      ]
    },
    {
      "cell_type": "code",
      "metadata": {
        "id": "Ji0qwGnSPHG6"
      },
      "source": [
        "## Create data stage\n",
        "! mkdir parakeets"
      ],
      "execution_count": 4,
      "outputs": []
    },
    {
      "cell_type": "code",
      "metadata": {
        "id": "91C3DZPRPQfE"
      },
      "source": [
        "## Extract data from tar files\n",
        "! tar -zxf gdrive/MyDrive/parakeet_tars/'alexandrine Psittacula eupatria.tar.gz' -C parakeets/ && mv parakeets/'alexandrine Psittacula eupatria' parakeets/alexandrine\n",
        "! tar -zxf gdrive/MyDrive/parakeet_tars/'bourke Neosephotus bourkii.tar.gz' -C parakeets/ && mv parakeets/'bourke Neosephotus bourkii' parakeets/bourke\n",
        "! tar -zxf gdrive/MyDrive/parakeet_tars/'budgerigar Melopsittacus undulatus.tar.gz' -C parakeets/ && mv parakeets/'budgerigar Melopsittacus undulatus' parakeets/budgie\n",
        "! tar -zxf gdrive/MyDrive/parakeet_tars/'derbyan Psittacula derbiana.tar.gz' -C parakeets/ && mv parakeets/'derbyan Psittacula derbiana' parakeets/derbyan\n",
        "! tar -zxf gdrive/MyDrive/parakeet_tars/'lineolated_barred Bolborhynchus lineola.tar.gz' -C parakeets/ && mv parakeets/'lineolated_barred Bolborhynchus lineola' parakeets/lineolated\n",
        "! tar -zxf gdrive/MyDrive/parakeet_tars/'monk Myiopsitta monachus.tar.gz' -C parakeets/ && mv parakeets/'monk Myiopsitta monachus' parakeets/monk\n",
        "! tar -zxf gdrive/MyDrive/parakeet_tars/'moustache_red-breasted Psittacula alexandri.tar.gz' -C parakeets/ && mv parakeets/'moustache_red-breasted Psittacula alexandri' parakeets/moustache\n",
        "! tar -zxf gdrive/MyDrive/parakeet_tars/'plain Brotogeris tirica.tar.gz' -C parakeets/ && mv parakeets/'plain Brotogeris tirica' parakeets/plain\n",
        "! tar -zxf gdrive/MyDrive/parakeet_tars/'plum-headed Psittacula cyanocephala.tar.gz' -C parakeets/ && mv parakeets/'plum-headed Psittacula cyanocephala' parakeets/plum\n",
        "! tar -zxf gdrive/MyDrive/parakeet_tars/'regent Polytelis anthopeplus.tar.gz' -C parakeets/ && mv parakeets/'regent Polytelis anthopeplus' parakeets/regent\n",
        "! tar -zxf gdrive/MyDrive/parakeet_tars/'ring-necked Psittacula krameri.tar.gz' -C parakeets/ && mv parakeets/'ring-necked Psittacula krameri' parakeets/ring\n",
        "\n"
      ],
      "execution_count": 6,
      "outputs": []
    },
    {
      "cell_type": "code",
      "metadata": {
        "colab": {
          "base_uri": "https://localhost:8080/"
        },
        "id": "mJIK5FQlSq7j",
        "outputId": "f10582eb-db02-490c-a14d-1fbfb2254ec5"
      },
      "source": [
        "! ls -al parakeets/"
      ],
      "execution_count": 7,
      "outputs": [
        {
          "output_type": "stream",
          "text": [
            "total 132\n",
            "drwxr-xr-x 13 root root  4096 Mar 29 17:26 .\n",
            "drwxr-xr-x  1 root root  4096 Mar 29 17:26 ..\n",
            "drwxrwxrwx  2 root root 12288 Mar 26 00:49 alexandrine\n",
            "drwxrwxrwx  2 root root 12288 Mar 26 03:29 bourke\n",
            "drwxrwxrwx  2 root root 12288 Mar 26 00:59 budgie\n",
            "drwxrwxrwx  2 root root 12288 Mar 26 00:56 derbyan\n",
            "drwxrwxrwx  2 root root 12288 Mar 26 00:50 lineolated\n",
            "drwxrwxrwx  2 root root 12288 Mar 26 00:57 monk\n",
            "drwxrwxrwx  2 root root 12288 Mar 26 00:54 moustache\n",
            "drwxrwxrwx  2 root root  4096 Mar 26 00:51 plain\n",
            "drwxrwxrwx  2 root root 12288 Mar 26 01:03 plum\n",
            "drwxrwxrwx  2 root root 12288 Mar 26 00:53 regent\n",
            "drwxrwxrwx  2 root root 12288 Mar 26 01:04 ring\n"
          ],
          "name": "stdout"
        }
      ]
    },
    {
      "cell_type": "code",
      "metadata": {
        "colab": {
          "base_uri": "https://localhost:8080/"
        },
        "id": "kraHZ6EoSK11",
        "outputId": "23d7d2b6-ebae-4a0a-cec3-b91f36ab2ef1"
      },
      "source": [
        "! ls -hl"
      ],
      "execution_count": 8,
      "outputs": [
        {
          "output_type": "stream",
          "text": [
            "total 12K\n",
            "drwx------  5 root root 4.0K Mar 29 17:26 gdrive\n",
            "drwxr-xr-x 13 root root 4.0K Mar 29 17:26 parakeets\n",
            "drwxr-xr-x  1 root root 4.0K Mar 18 13:36 sample_data\n"
          ],
          "name": "stdout"
        }
      ]
    },
    {
      "cell_type": "code",
      "metadata": {
        "id": "Z1-2O9pGYO2e"
      },
      "source": [
        "! rm *.tar.gz"
      ],
      "execution_count": null,
      "outputs": []
    },
    {
      "cell_type": "code",
      "metadata": {
        "id": "JjZI6DnWSMTz",
        "colab": {
          "base_uri": "https://localhost:8080/"
        },
        "outputId": "74ef0a90-9039-414f-aad0-515cd7e99b94"
      },
      "source": [
        "## Show distribution\n",
        "! for d in $(ls ./parakeets); do samples=$(ls ./parakeets/${d} | wc -l); echo ${d} ${samples}; done\n"
      ],
      "execution_count": 9,
      "outputs": [
        {
          "output_type": "stream",
          "text": [
            "alexandrine 210\n",
            "bourke 215\n",
            "budgie 202\n",
            "derbyan 206\n",
            "lineolated 201\n",
            "monk 204\n",
            "moustache 204\n",
            "plain 201\n",
            "plum 209\n",
            "regent 201\n",
            "ring 214\n"
          ],
          "name": "stdout"
        }
      ]
    },
    {
      "cell_type": "markdown",
      "metadata": {
        "id": "twXguGnSSN_T"
      },
      "source": [
        "Resize images"
      ]
    },
    {
      "cell_type": "code",
      "metadata": {
        "id": "GQNBn8Ohj_14"
      },
      "source": [
        "! rm parakeets/alexandrine/.DS_Store"
      ],
      "execution_count": 10,
      "outputs": []
    },
    {
      "cell_type": "code",
      "metadata": {
        "id": "crwYWe4ukfc8"
      },
      "source": [
        "! rm parakeets/bourke/.DS_Store\n",
        "! rm parakeets/budgie/.DS_Store\n",
        "! rm parakeets/derbyan/.DS_Store\n",
        "! rm parakeets/lineolated/.DS_Store\n",
        "! rm parakeets/monk/.DS_Store\n",
        "! rm parakeets/moustache/.DS_Store\n",
        "! rm parakeets/plain/.DS_Store\n",
        "! rm parakeets/plum/.DS_Store\n",
        "! rm parakeets/regent/.DS_Store\n",
        "! rm parakeets/ring/.DS_Store"
      ],
      "execution_count": 11,
      "outputs": []
    },
    {
      "cell_type": "code",
      "metadata": {
        "id": "KmuQDb4ZconE"
      },
      "source": [
        "import numpy\n",
        "import os\n",
        "import PIL\n",
        "from matplotlib.pyplot import imshow\n",
        "import numpy as np\n",
        "from PIL import Image\n",
        "from os import listdir\n",
        "from matplotlib import image\n",
        "import matplotlib.pyplot as plt\n",
        "from keras.preprocessing import image"
      ],
      "execution_count": 30,
      "outputs": []
    },
    {
      "cell_type": "code",
      "metadata": {
        "id": "XSn5Rm5Qg1Y0"
      },
      "source": [
        "data_images = os.path.join('parakeets', '.')\n",
        "for eq_cl in os.listdir(data_images):\n",
        "  cl_dir = os.path.join(data_images, eq_cl)\n",
        "  for dat in os.listdir(cl_dir):\n",
        "    image = Image.open(os.path.join(cl_dir, dat))\n",
        "    img_p = image.resize((256, 256))\n",
        "    ##overwrite existing image\n",
        "    img_p.save(os.path.join(cl_dir, dat))"
      ],
      "execution_count": 13,
      "outputs": []
    },
    {
      "cell_type": "code",
      "metadata": {
        "colab": {
          "base_uri": "https://localhost:8080/"
        },
        "id": "z4QbBVkrmAc9",
        "outputId": "47434e75-2799-4c9e-f1ca-1f0b1898ccf2"
      },
      "source": [
        "! ls -hl parakeets/alexandrine"
      ],
      "execution_count": 14,
      "outputs": [
        {
          "output_type": "stream",
          "text": [
            "total 3.0M\n",
            "-rwxrwxrwx 1 root root 8.9K Mar 29 17:28 alexandrine100.JPG\n",
            "-rwxrwxrwx 1 root root 6.1K Mar 29 17:28 alexandrine101.JPG\n",
            "-rwxrwxrwx 1 root root  18K Mar 29 17:29 alexandrine102.JPG\n",
            "-rwxrwxrwx 1 root root 8.7K Mar 29 17:28 alexandrine103.JPG\n",
            "-rwxrwxrwx 1 root root 8.9K Mar 29 17:28 alexandrine104.JPG\n",
            "-rwxrwxrwx 1 root root 8.7K Mar 29 17:28 alexandrine105.JPG\n",
            "-rwxrwxrwx 1 root root  11K Mar 29 17:29 alexandrine106.JPG\n",
            "-rwxrwxrwx 1 root root 8.2K Mar 29 17:28 alexandrine107.JPG\n",
            "-rwxrwxrwx 1 root root  16K Mar 29 17:28 alexandrine108.JPG\n",
            "-rwxrwxrwx 1 root root 4.2K Mar 29 17:28 alexandrine109.JPG\n",
            "-rwxrwxrwx 1 root root  13K Mar 29 17:28 alexandrine10.JPG\n",
            "-rwxrwxrwx 1 root root  13K Mar 29 17:28 alexandrine110.JPG\n",
            "-rwxrwxrwx 1 root root 9.4K Mar 29 17:29 alexandrine111.JPG\n",
            "-rwxrwxrwx 1 root root  17K Mar 29 17:28 alexandrine112.JPG\n",
            "-rwxrwxrwx 1 root root  14K Mar 29 17:28 alexandrine113.JPG\n",
            "-rwxrwxrwx 1 root root  12K Mar 29 17:29 alexandrine114.jpg\n",
            "-rwxrwxrwx 1 root root 5.4K Mar 29 17:28 alexandrine115.JPG\n",
            "-rwxrwxrwx 1 root root  13K Mar 29 17:28 alexandrine116.JPG\n",
            "-rwxrwxrwx 1 root root  17K Mar 29 17:28 alexandrine117.JPG\n",
            "-rwxrwxrwx 1 root root 9.0K Mar 29 17:28 alexandrine118.JPG\n",
            "-rwxrwxrwx 1 root root 6.8K Mar 29 17:29 alexandrine119.JPG\n",
            "-rwxrwxrwx 1 root root 7.7K Mar 29 17:28 alexandrine11.JPG\n",
            "-rwxrwxrwx 1 root root  13K Mar 29 17:28 alexandrine120.JPG\n",
            "-rwxrwxrwx 1 root root 8.9K Mar 29 17:28 alexandrine121.JPG\n",
            "-rwxrwxrwx 1 root root  12K Mar 29 17:29 alexandrine122.JPG\n",
            "-rwxrwxrwx 1 root root  13K Mar 29 17:28 alexandrine123.jpg\n",
            "-rwxrwxrwx 1 root root  12K Mar 29 17:28 alexandrine124.JPG\n",
            "-rwxrwxrwx 1 root root  20K Mar 29 17:28 alexandrine125.JPG\n",
            "-rwxrwxrwx 1 root root  11K Mar 29 17:28 alexandrine126.JPG\n",
            "-rwxrwxrwx 1 root root  13K Mar 29 17:28 alexandrine127.JPG\n",
            "-rwxrwxrwx 1 root root  12K Mar 29 17:28 alexandrine128.jpg\n",
            "-rwxrwxrwx 1 root root 8.1K Mar 29 17:28 alexandrine129.JPG\n",
            "-rwxrwxrwx 1 root root 107K Mar 29 17:29 alexandrine12.PNG\n",
            "-rwxrwxrwx 1 root root 8.1K Mar 29 17:29 alexandrine130.JPG\n",
            "-rwxrwxrwx 1 root root 9.6K Mar 29 17:28 alexandrine131.JPG\n",
            "-rwxrwxrwx 1 root root  20K Mar 29 17:28 alexandrine132.PNG\n",
            "-rwxrwxrwx 1 root root 9.3K Mar 29 17:29 alexandrine133.JPG\n",
            "-rwxrwxrwx 1 root root  12K Mar 29 17:28 alexandrine134.jpg\n",
            "-rwxrwxrwx 1 root root  13K Mar 29 17:28 alexandrine135.JPG\n",
            "-rwxrwxrwx 1 root root  11K Mar 29 17:29 alexandrine136.jpg\n",
            "-rwxrwxrwx 1 root root 8.7K Mar 29 17:29 alexandrine137.JPG\n",
            "-rwxrwxrwx 1 root root  11K Mar 29 17:28 alexandrine138.JPG\n",
            "-rwxrwxrwx 1 root root  14K Mar 29 17:28 alexandrine139.JPG\n",
            "-rwxrwxrwx 1 root root 6.1K Mar 29 17:28 alexandrine13.JPG\n",
            "-rwxrwxrwx 1 root root 7.4K Mar 29 17:29 alexandrine140.JPG\n",
            "-rwxrwxrwx 1 root root 9.1K Mar 29 17:28 alexandrine141.JPG\n",
            "-rwxrwxrwx 1 root root 7.1K Mar 29 17:29 alexandrine142.JPG\n",
            "-rwxrwxrwx 1 root root 6.6K Mar 29 17:28 alexandrine143.JPG\n",
            "-rwxrwxrwx 1 root root  11K Mar 29 17:28 alexandrine144.jpg\n",
            "-rwxrwxrwx 1 root root 9.0K Mar 29 17:28 alexandrine145.JPG\n",
            "-rwxrwxrwx 1 root root  17K Mar 29 17:28 alexandrine146.JPG\n",
            "-rwxrwxrwx 1 root root 9.1K Mar 29 17:28 alexandrine147.jpg\n",
            "-rwxrwxrwx 1 root root 8.9K Mar 29 17:28 alexandrine148.jpg\n",
            "-rwxrwxrwx 1 root root  14K Mar 29 17:28 alexandrine149.JPG\n",
            "-rwxrwxrwx 1 root root  14K Mar 29 17:28 alexandrine14.JPG\n",
            "-rwxrwxrwx 1 root root 9.0K Mar 29 17:29 alexandrine150.JPG\n",
            "-rwxrwxrwx 1 root root  19K Mar 29 17:28 alexandrine151.JPG\n",
            "-rwxrwxrwx 1 root root 6.1K Mar 29 17:28 alexandrine152.WEBP\n",
            "-rwxrwxrwx 1 root root 9.0K Mar 29 17:28 alexandrine153.jpg\n",
            "-rwxrwxrwx 1 root root 9.0K Mar 29 17:29 alexandrine154.jpg\n",
            "-rwxrwxrwx 1 root root 5.1K Mar 29 17:28 alexandrine155.JPG\n",
            "-rwxrwxrwx 1 root root  11K Mar 29 17:29 alexandrine156.JPG\n",
            "-rwxrwxrwx 1 root root  12K Mar 29 17:28 alexandrine157.JPG\n",
            "-rwxrwxrwx 1 root root 6.7K Mar 29 17:29 alexandrine158.JPG\n",
            "-rwxrwxrwx 1 root root 8.5K Mar 29 17:29 alexandrine159.jpg\n",
            "-rwxrwxrwx 1 root root  18K Mar 29 17:28 alexandrine15.JPG\n",
            "-rwxrwxrwx 1 root root 9.0K Mar 29 17:29 alexandrine160.jpg\n",
            "-rwxrwxrwx 1 root root  18K Mar 29 17:29 alexandrine161.JPG\n",
            "-rwxrwxrwx 1 root root 8.3K Mar 29 17:28 alexandrine162.JPG\n",
            "-rwxrwxrwx 1 root root 8.9K Mar 29 17:28 alexandrine163.jpg\n",
            "-rwxrwxrwx 1 root root 8.0K Mar 29 17:28 alexandrine164.jpg\n",
            "-rwxrwxrwx 1 root root  14K Mar 29 17:28 alexandrine165.JPG\n",
            "-rwxrwxrwx 1 root root 8.4K Mar 29 17:28 alexandrine166.JPG\n",
            "-rwxrwxrwx 1 root root  17K Mar 29 17:29 alexandrine167.JPG\n",
            "-rwxrwxrwx 1 root root 7.6K Mar 29 17:29 alexandrine168.jpg\n",
            "-rwxrwxrwx 1 root root 8.3K Mar 29 17:28 alexandrine169.JPG\n",
            "-rwxrwxrwx 1 root root 7.6K Mar 29 17:29 alexandrine170.jpg\n",
            "-rwxrwxrwx 1 root root  14K Mar 29 17:28 alexandrine171.JPG\n",
            "-rwxrwxrwx 1 root root  11K Mar 29 17:28 alexandrine172.JPG\n",
            "-rwxrwxrwx 1 root root  15K Mar 29 17:28 alexandrine173.JPG\n",
            "-rwxrwxrwx 1 root root  15K Mar 29 17:28 alexandrine174.JPG\n",
            "-rwxrwxrwx 1 root root 7.4K Mar 29 17:28 alexandrine175.JPG\n",
            "-rwxrwxrwx 1 root root 9.3K Mar 29 17:29 alexandrine176.JPG\n",
            "-rwxrwxrwx 1 root root  15K Mar 29 17:28 alexandrine177.JPG\n",
            "-rwxrwxrwx 1 root root  17K Mar 29 17:28 alexandrine178.JPG\n",
            "-rwxrwxrwx 1 root root  11K Mar 29 17:28 alexandrine179.JPG\n",
            "-rwxrwxrwx 1 root root  14K Mar 29 17:28 alexandrine17.JPG\n",
            "-rwxrwxrwx 1 root root  14K Mar 29 17:28 alexandrine180.JPG\n",
            "-rwxrwxrwx 1 root root  15K Mar 29 17:28 alexandrine181.JPG\n",
            "-rwxrwxrwx 1 root root 6.1K Mar 29 17:28 alexandrine182.WEBP\n",
            "-rwxrwxrwx 1 root root 9.0K Mar 29 17:28 alexandrine183.JPG\n",
            "-rwxrwxrwx 1 root root 5.1K Mar 29 17:29 alexandrine184.JPG\n",
            "-rwxrwxrwx 1 root root  14K Mar 29 17:28 alexandrine185.JPG\n",
            "-rwxrwxrwx 1 root root 7.5K Mar 29 17:28 alexandrine186.JPG\n",
            "-rwxrwxrwx 1 root root  11K Mar 29 17:28 alexandrine187.JPG\n",
            "-rwxrwxrwx 1 root root  13K Mar 29 17:29 alexandrine188.JPG\n",
            "-rwxrwxrwx 1 root root  12K Mar 29 17:28 alexandrine189.JPG\n",
            "-rwxrwxrwx 1 root root 8.5K Mar 29 17:28 alexandrine18.JPG\n",
            "-rwxrwxrwx 1 root root 8.0K Mar 29 17:28 alexandrine190.JPG\n",
            "-rwxrwxrwx 1 root root  12K Mar 29 17:28 alexandrine191.JPG\n",
            "-rwxrwxrwx 1 root root  11K Mar 29 17:29 alexandrine192.JPG\n",
            "-rwxrwxrwx 1 root root 4.4K Mar 29 17:28 alexandrine193.WEBP\n",
            "-rwxrwxrwx 1 root root 7.6K Mar 29 17:29 alexandrine194.JPG\n",
            "-rwxrwxrwx 1 root root 9.3K Mar 29 17:29 alexandrine195.JPG\n",
            "-rwxrwxrwx 1 root root 5.6K Mar 29 17:28 alexandrine196.JPG\n",
            "-rwxrwxrwx 1 root root  11K Mar 29 17:28 alexandrine197.JPG\n",
            "-rwxrwxrwx 1 root root 5.2K Mar 29 17:28 alexandrine198.JPG\n",
            "-rwxrwxrwx 1 root root 6.3K Mar 29 17:28 alexandrine199.JPG\n",
            "-rwxrwxrwx 1 root root 6.4K Mar 29 17:29 alexandrine19.JPG\n",
            "-rwxrwxrwx 1 root root 6.0K Mar 29 17:28 alexandrine1.JPG\n",
            "-rwxrwxrwx 1 root root 8.2K Mar 29 17:28 alexandrine200.WEBP\n",
            "-rwxrwxrwx 1 root root 9.8K Mar 29 17:28 alexandrine201.JPG\n",
            "-rwxrwxrwx 1 root root 9.6K Mar 29 17:28 alexandrine202.JPG\n",
            "-rwxrwxrwx 1 root root 9.7K Mar 29 17:29 alexandrine203.JPG\n",
            "-rwxrwxrwx 1 root root 8.7K Mar 29 17:28 alexandrine204.JPG\n",
            "-rwxrwxrwx 1 root root 7.3K Mar 29 17:28 alexandrine205.JPG\n",
            "-rwxrwxrwx 1 root root 8.1K Mar 29 17:29 alexandrine206.JPG\n",
            "-rwxrwxrwx 1 root root 7.0K Mar 29 17:28 alexandrine207.JPG\n",
            "-rwxrwxrwx 1 root root 4.5K Mar 29 17:28 alexandrine208.JPG\n",
            "-rwxrwxrwx 1 root root 5.3K Mar 29 17:28 alexandrine209.JPG\n",
            "-rwxrwxrwx 1 root root  98K Mar 29 17:28 alexandrine20.PNG\n",
            "-rwxrwxrwx 1 root root 6.1K Mar 29 17:28 alexandrine210.JPG\n",
            "-rwxrwxrwx 1 root root 3.4K Mar 29 17:28 alexandrine211.WEBP\n",
            "-rwxrwxrwx 1 root root  89K Mar 29 17:29 alexandrine21.PNG\n",
            "-rwxrwxrwx 1 root root  11K Mar 29 17:28 alexandrine22.JPG\n",
            "-rwxrwxrwx 1 root root  12K Mar 29 17:29 alexandrine23.JPG\n",
            "-rwxrwxrwx 1 root root 9.7K Mar 29 17:28 alexandrine24.JPG\n",
            "-rwxrwxrwx 1 root root  11K Mar 29 17:28 alexandrine25.JPG\n",
            "-rwxrwxrwx 1 root root 6.9K Mar 29 17:28 alexandrine26.JPG\n",
            "-rwxrwxrwx 1 root root  12K Mar 29 17:29 alexandrine27.JPG\n",
            "-rwxrwxrwx 1 root root  15K Mar 29 17:28 alexandrine28.JPG\n",
            "-rwxrwxrwx 1 root root  17K Mar 29 17:28 alexandrine29.JPG\n",
            "-rwxrwxrwx 1 root root 4.6K Mar 29 17:28 alexandrine2.JPG\n",
            "-rwxrwxrwx 1 root root  11K Mar 29 17:28 alexandrine30.JPG\n",
            "-rwxrwxrwx 1 root root 6.7K Mar 29 17:28 alexandrine31.JPG\n",
            "-rwxrwxrwx 1 root root  15K Mar 29 17:28 alexandrine32.JPG\n",
            "-rwxrwxrwx 1 root root  16K Mar 29 17:28 alexandrine33.JPG\n",
            "-rwxrwxrwx 1 root root  20K Mar 29 17:28 alexandrine34.JPG\n",
            "-rwxrwxrwx 1 root root 4.8K Mar 29 17:28 alexandrine35.JPG\n",
            "-rwxrwxrwx 1 root root 9.0K Mar 29 17:28 alexandrine36.JPG\n",
            "-rwxrwxrwx 1 root root  23K Mar 29 17:28 alexandrine37.JPG\n",
            "-rwxrwxrwx 1 root root  11K Mar 29 17:28 alexandrine38.JPG\n",
            "-rwxrwxrwx 1 root root 9.0K Mar 29 17:29 alexandrine39.JPG\n",
            "-rwxrwxrwx 1 root root 6.3K Mar 29 17:28 alexandrine3.JPG\n",
            "-rwxrwxrwx 1 root root  14K Mar 29 17:29 alexandrine40.JPG\n",
            "-rwxrwxrwx 1 root root  16K Mar 29 17:28 alexandrine41.JPG\n",
            "-rwxrwxrwx 1 root root  14K Mar 29 17:28 alexandrine42.JPG\n",
            "-rwxrwxrwx 1 root root 8.0K Mar 29 17:28 alexandrine43.JPG\n",
            "-rwxrwxrwx 1 root root  13K Mar 29 17:28 alexandrine44.JPG\n",
            "-rwxrwxrwx 1 root root 5.1K Mar 29 17:28 alexandrine45.JPG\n",
            "-rwxrwxrwx 1 root root  11K Mar 29 17:28 alexandrine46.JPG\n",
            "-rwxrwxrwx 1 root root 9.3K Mar 29 17:28 alexandrine47.JPG\n",
            "-rwxrwxrwx 1 root root 9.5K Mar 29 17:28 alexandrine48.JPG\n",
            "-rwxrwxrwx 1 root root 9.1K Mar 29 17:28 alexandrine49.JPG\n",
            "-rwxrwxrwx 1 root root  14K Mar 29 17:28 alexandrine4.JPG\n",
            "-rwxrwxrwx 1 root root  18K Mar 29 17:28 alexandrine50.JPG\n",
            "-rwxrwxrwx 1 root root  11K Mar 29 17:29 alexandrine51.JPG\n",
            "-rwxrwxrwx 1 root root 6.7K Mar 29 17:28 alexandrine52.JPG\n",
            "-rwxrwxrwx 1 root root  13K Mar 29 17:28 alexandrine53.JPG\n",
            "-rwxrwxrwx 1 root root  14K Mar 29 17:28 alexandrine54.JPG\n",
            "-rwxrwxrwx 1 root root  12K Mar 29 17:28 alexandrine55.JPG\n",
            "-rwxrwxrwx 1 root root 3.8K Mar 29 17:29 alexandrine56.JPG\n",
            "-rwxrwxrwx 1 root root 9.3K Mar 29 17:28 alexandrine57.JPG\n",
            "-rwxrwxrwx 1 root root 6.5K Mar 29 17:28 alexandrine58.JPG\n",
            "-rwxrwxrwx 1 root root  10K Mar 29 17:28 alexandrine59.JPG\n",
            "-rwxrwxrwx 1 root root  12K Mar 29 17:28 alexandrine5.JPG\n",
            "-rwxrwxrwx 1 root root  14K Mar 29 17:28 alexandrine60.JPG\n",
            "-rwxrwxrwx 1 root root 9.7K Mar 29 17:28 alexandrine61.JPG\n",
            "-rwxrwxrwx 1 root root 9.5K Mar 29 17:28 alexandrine62.JPG\n",
            "-rwxrwxrwx 1 root root  12K Mar 29 17:28 alexandrine63.JPG\n",
            "-rwxrwxrwx 1 root root 9.7K Mar 29 17:28 alexandrine64.JPG\n",
            "-rwxrwxrwx 1 root root  14K Mar 29 17:28 alexandrine65.JPG\n",
            "-rwxrwxrwx 1 root root  16K Mar 29 17:29 alexandrine66.JPG\n",
            "-rwxrwxrwx 1 root root 9.6K Mar 29 17:28 alexandrine67.JPG\n",
            "-rwxrwxrwx 1 root root 5.5K Mar 29 17:29 alexandrine68.JPG\n",
            "-rwxrwxrwx 1 root root 4.5K Mar 29 17:28 alexandrine69.JPG\n",
            "-rwxrwxrwx 1 root root 117K Mar 29 17:28 alexandrine6.PNG\n",
            "-rwxrwxrwx 1 root root  17K Mar 29 17:29 alexandrine70.JPG\n",
            "-rwxrwxrwx 1 root root  11K Mar 29 17:29 alexandrine71.JPG\n",
            "-rwxrwxrwx 1 root root 7.1K Mar 29 17:29 alexandrine72.JPG\n",
            "-rwxrwxrwx 1 root root 9.1K Mar 29 17:28 alexandrine73.JPG\n",
            "-rwxrwxrwx 1 root root  14K Mar 29 17:29 alexandrine74.JPG\n",
            "-rwxrwxrwx 1 root root 9.5K Mar 29 17:29 alexandrine75.JPG\n",
            "-rwxrwxrwx 1 root root  11K Mar 29 17:28 alexandrine76.JPG\n",
            "-rwxrwxrwx 1 root root  17K Mar 29 17:28 alexandrine77.JPG\n",
            "-rwxrwxrwx 1 root root  13K Mar 29 17:28 alexandrine78.JPG\n",
            "-rwxrwxrwx 1 root root  12K Mar 29 17:28 alexandrine79.JPG\n",
            "-rwxrwxrwx 1 root root 4.5K Mar 29 17:28 alexandrine7.JPG\n",
            "-rwxrwxrwx 1 root root  12K Mar 29 17:28 alexandrine80.JPG\n",
            "-rwxrwxrwx 1 root root 7.9K Mar 29 17:29 alexandrine81.JPG\n",
            "-rwxrwxrwx 1 root root  12K Mar 29 17:28 alexandrine82.JPG\n",
            "-rwxrwxrwx 1 root root 8.3K Mar 29 17:28 alexandrine83.JPG\n",
            "-rwxrwxrwx 1 root root 9.8K Mar 29 17:28 alexandrine84.JPG\n",
            "-rwxrwxrwx 1 root root 9.3K Mar 29 17:28 alexandrine85.JPG\n",
            "-rwxrwxrwx 1 root root 8.3K Mar 29 17:28 alexandrine86.JPG\n",
            "-rwxrwxrwx 1 root root  13K Mar 29 17:28 alexandrine87.JPG\n",
            "-rwxrwxrwx 1 root root 9.9K Mar 29 17:28 alexandrine88.JPG\n",
            "-rwxrwxrwx 1 root root  17K Mar 29 17:28 alexandrine89.JPG\n",
            "-rwxrwxrwx 1 root root 7.3K Mar 29 17:28 alexandrine8.JPG\n",
            "-rwxrwxrwx 1 root root 9.7K Mar 29 17:29 alexandrine90.JPG\n",
            "-rwxrwxrwx 1 root root  13K Mar 29 17:28 alexandrine91.JPG\n",
            "-rwxrwxrwx 1 root root  15K Mar 29 17:28 alexandrine92.JPG\n",
            "-rwxrwxrwx 1 root root  13K Mar 29 17:28 alexandrine93.JPG\n",
            "-rwxrwxrwx 1 root root  11K Mar 29 17:28 alexandrine94.JPG\n",
            "-rwxrwxrwx 1 root root 8.5K Mar 29 17:28 alexandrine95.JPG\n",
            "-rwxrwxrwx 1 root root  23K Mar 29 17:28 alexandrine96.JPG\n",
            "-rwxrwxrwx 1 root root 5.4K Mar 29 17:28 alexandrine97.JPG\n",
            "-rwxrwxrwx 1 root root 9.3K Mar 29 17:28 alexandrine98.JPG\n",
            "-rwxrwxrwx 1 root root 8.4K Mar 29 17:28 alexandrine99.JPG\n",
            "-rwxrwxrwx 1 root root  20K Mar 29 17:28 alexandrine9.JPG\n"
          ],
          "name": "stdout"
        }
      ]
    },
    {
      "cell_type": "code",
      "metadata": {
        "colab": {
          "base_uri": "https://localhost:8080/"
        },
        "id": "q9c4jbT_l4PE",
        "outputId": "c1eba665-a7ce-43e7-928e-495f78531ff6"
      },
      "source": [
        "sample_images_loaded = list()\n",
        "for filename in listdir('parakeets/alexandrine'):\n",
        "  img_data = image.imread('parakeets/alexandrine/' + filename)\n",
        "  sample_images_loaded.append(img_data)\n",
        "  print('> loaded %s %s' % (filename, img_data.shape))"
      ],
      "execution_count": 18,
      "outputs": [
        {
          "output_type": "stream",
          "text": [
            "> loaded alexandrine157.JPG (256, 256, 3)\n",
            "> loaded alexandrine164.jpg (256, 256, 3)\n",
            "> loaded alexandrine62.JPG (256, 256, 3)\n",
            "> loaded alexandrine29.JPG (256, 256, 3)\n",
            "> loaded alexandrine146.JPG (256, 256, 3)\n",
            "> loaded alexandrine115.JPG (256, 256, 3)\n",
            "> loaded alexandrine197.JPG (256, 256, 3)\n",
            "> loaded alexandrine97.JPG (256, 256, 3)\n",
            "> loaded alexandrine191.JPG (256, 256, 3)\n",
            "> loaded alexandrine172.JPG (256, 256, 3)\n",
            "> loaded alexandrine25.JPG (256, 256, 3)\n",
            "> loaded alexandrine110.JPG (256, 256, 3)\n",
            "> loaded alexandrine85.JPG (256, 256, 3)\n",
            "> loaded alexandrine57.JPG (256, 256, 3)\n",
            "> loaded alexandrine166.JPG (256, 256, 3)\n",
            "> loaded alexandrine198.JPG (256, 256, 3)\n",
            "> loaded alexandrine83.JPG (256, 256, 3)\n",
            "> loaded alexandrine46.JPG (256, 256, 3)\n",
            "> loaded alexandrine147.jpg (256, 256, 3)\n",
            "> loaded alexandrine5.JPG (256, 256, 3)\n",
            "> loaded alexandrine41.JPG (256, 256, 3)\n",
            "> loaded alexandrine127.JPG (256, 256, 3)\n",
            "> loaded alexandrine113.JPG (256, 256, 3)\n",
            "> loaded alexandrine185.JPG (256, 256, 3)\n",
            "> loaded alexandrine208.JPG (256, 256, 3)\n",
            "> loaded alexandrine141.JPG (256, 256, 3)\n",
            "> loaded alexandrine101.JPG (256, 256, 3)\n",
            "> loaded alexandrine152.WEBP (256, 256, 3)\n",
            "> loaded alexandrine42.JPG (256, 256, 3)\n",
            "> loaded alexandrine99.JPG (256, 256, 3)\n",
            "> loaded alexandrine26.JPG (256, 256, 3)\n",
            "> loaded alexandrine151.JPG (256, 256, 3)\n",
            "> loaded alexandrine61.JPG (256, 256, 3)\n",
            "> loaded alexandrine4.JPG (256, 256, 3)\n",
            "> loaded alexandrine155.JPG (256, 256, 3)\n",
            "> loaded alexandrine89.JPG (256, 256, 3)\n",
            "> loaded alexandrine126.JPG (256, 256, 3)\n",
            "> loaded alexandrine128.jpg (256, 256, 3)\n",
            "> loaded alexandrine1.JPG (256, 256, 3)\n",
            "> loaded alexandrine80.JPG (256, 256, 3)\n",
            "> loaded alexandrine129.JPG (256, 256, 3)\n",
            "> loaded alexandrine33.JPG (256, 256, 3)\n",
            "> loaded alexandrine138.JPG (256, 256, 3)\n",
            "> loaded alexandrine193.WEBP (256, 256, 3)\n",
            "> loaded alexandrine13.JPG (256, 256, 3)\n",
            "> loaded alexandrine47.JPG (256, 256, 3)\n",
            "> loaded alexandrine205.JPG (256, 256, 3)\n",
            "> loaded alexandrine179.JPG (256, 256, 3)\n",
            "> loaded alexandrine103.JPG (256, 256, 3)\n",
            "> loaded alexandrine78.JPG (256, 256, 3)\n",
            "> loaded alexandrine38.JPG (256, 256, 3)\n",
            "> loaded alexandrine36.JPG (256, 256, 3)\n",
            "> loaded alexandrine53.JPG (256, 256, 3)\n",
            "> loaded alexandrine120.JPG (256, 256, 3)\n",
            "> loaded alexandrine177.JPG (256, 256, 3)\n",
            "> loaded alexandrine32.JPG (256, 256, 3)\n",
            "> loaded alexandrine189.JPG (256, 256, 3)\n",
            "> loaded alexandrine3.JPG (256, 256, 3)\n",
            "> loaded alexandrine95.JPG (256, 256, 3)\n",
            "> loaded alexandrine30.JPG (256, 256, 3)\n",
            "> loaded alexandrine183.JPG (256, 256, 3)\n",
            "> loaded alexandrine153.jpg (256, 256, 3)\n",
            "> loaded alexandrine181.JPG (256, 256, 3)\n",
            "> loaded alexandrine169.JPG (256, 256, 3)\n",
            "> loaded alexandrine49.JPG (256, 256, 3)\n",
            "> loaded alexandrine144.jpg (256, 256, 3)\n",
            "> loaded alexandrine88.JPG (256, 256, 3)\n",
            "> loaded alexandrine182.WEBP (256, 256, 3)\n",
            "> loaded alexandrine104.JPG (256, 256, 3)\n",
            "> loaded alexandrine69.JPG (256, 256, 3)\n",
            "> loaded alexandrine18.JPG (256, 256, 3)\n",
            "> loaded alexandrine134.jpg (256, 256, 3)\n",
            "> loaded alexandrine20.PNG (256, 256, 3)\n",
            "> loaded alexandrine31.JPG (256, 256, 3)\n",
            "> loaded alexandrine145.JPG (256, 256, 3)\n",
            "> loaded alexandrine82.JPG (256, 256, 3)\n",
            "> loaded alexandrine143.JPG (256, 256, 3)\n",
            "> loaded alexandrine92.JPG (256, 256, 3)\n",
            "> loaded alexandrine76.JPG (256, 256, 3)\n",
            "> loaded alexandrine73.JPG (256, 256, 3)\n",
            "> loaded alexandrine165.JPG (256, 256, 3)\n",
            "> loaded alexandrine7.JPG (256, 256, 3)\n",
            "> loaded alexandrine63.JPG (256, 256, 3)\n",
            "> loaded alexandrine118.JPG (256, 256, 3)\n",
            "> loaded alexandrine174.JPG (256, 256, 3)\n",
            "> loaded alexandrine201.JPG (256, 256, 3)\n",
            "> loaded alexandrine187.JPG (256, 256, 3)\n",
            "> loaded alexandrine77.JPG (256, 256, 3)\n",
            "> loaded alexandrine59.JPG (256, 256, 3)\n",
            "> loaded alexandrine84.JPG (256, 256, 3)\n",
            "> loaded alexandrine98.JPG (256, 256, 3)\n",
            "> loaded alexandrine64.JPG (256, 256, 3)\n",
            "> loaded alexandrine94.JPG (256, 256, 3)\n",
            "> loaded alexandrine112.JPG (256, 256, 3)\n",
            "> loaded alexandrine199.JPG (256, 256, 3)\n",
            "> loaded alexandrine15.JPG (256, 256, 3)\n",
            "> loaded alexandrine105.JPG (256, 256, 3)\n",
            "> loaded alexandrine93.JPG (256, 256, 3)\n",
            "> loaded alexandrine123.jpg (256, 256, 3)\n",
            "> loaded alexandrine8.JPG (256, 256, 3)\n",
            "> loaded alexandrine91.JPG (256, 256, 3)\n",
            "> loaded alexandrine117.JPG (256, 256, 3)\n",
            "> loaded alexandrine135.JPG (256, 256, 3)\n",
            "> loaded alexandrine14.JPG (256, 256, 3)\n",
            "> loaded alexandrine196.JPG (256, 256, 3)\n",
            "> loaded alexandrine132.PNG (256, 256, 4)\n",
            "> loaded alexandrine11.JPG (256, 256, 3)\n",
            "> loaded alexandrine87.JPG (256, 256, 3)\n",
            "> loaded alexandrine107.JPG (256, 256, 3)\n",
            "> loaded alexandrine109.JPG (256, 256, 3)\n",
            "> loaded alexandrine100.JPG (256, 256, 3)\n",
            "> loaded alexandrine60.JPG (256, 256, 3)\n",
            "> loaded alexandrine202.JPG (256, 256, 3)\n",
            "> loaded alexandrine6.PNG (256, 256, 3)\n",
            "> loaded alexandrine131.JPG (256, 256, 3)\n",
            "> loaded alexandrine67.JPG (256, 256, 3)\n",
            "> loaded alexandrine175.JPG (256, 256, 3)\n",
            "> loaded alexandrine37.JPG (256, 256, 3)\n",
            "> loaded alexandrine124.JPG (256, 256, 3)\n",
            "> loaded alexandrine204.JPG (256, 256, 3)\n",
            "> loaded alexandrine211.WEBP (256, 256, 3)\n",
            "> loaded alexandrine163.jpg (256, 256, 3)\n",
            "> loaded alexandrine2.JPG (256, 256, 3)\n",
            "> loaded alexandrine55.JPG (256, 256, 3)\n",
            "> loaded alexandrine10.JPG (256, 256, 3)\n",
            "> loaded alexandrine190.JPG (256, 256, 3)\n",
            "> loaded alexandrine54.JPG (256, 256, 3)\n",
            "> loaded alexandrine28.JPG (256, 256, 3)\n",
            "> loaded alexandrine207.JPG (256, 256, 3)\n",
            "> loaded alexandrine180.JPG (256, 256, 3)\n",
            "> loaded alexandrine121.JPG (256, 256, 3)\n",
            "> loaded alexandrine148.jpg (256, 256, 3)\n",
            "> loaded alexandrine52.JPG (256, 256, 3)\n",
            "> loaded alexandrine34.JPG (256, 256, 3)\n",
            "> loaded alexandrine65.JPG (256, 256, 3)\n",
            "> loaded alexandrine58.JPG (256, 256, 3)\n",
            "> loaded alexandrine173.JPG (256, 256, 3)\n",
            "> loaded alexandrine86.JPG (256, 256, 3)\n",
            "> loaded alexandrine125.JPG (256, 256, 3)\n",
            "> loaded alexandrine35.JPG (256, 256, 3)\n",
            "> loaded alexandrine48.JPG (256, 256, 3)\n",
            "> loaded alexandrine149.JPG (256, 256, 3)\n",
            "> loaded alexandrine45.JPG (256, 256, 3)\n",
            "> loaded alexandrine44.JPG (256, 256, 3)\n",
            "> loaded alexandrine24.JPG (256, 256, 3)\n",
            "> loaded alexandrine178.JPG (256, 256, 3)\n",
            "> loaded alexandrine50.JPG (256, 256, 3)\n",
            "> loaded alexandrine139.JPG (256, 256, 3)\n",
            "> loaded alexandrine200.WEBP (256, 256, 3)\n",
            "> loaded alexandrine116.JPG (256, 256, 3)\n",
            "> loaded alexandrine79.JPG (256, 256, 3)\n",
            "> loaded alexandrine162.JPG (256, 256, 3)\n",
            "> loaded alexandrine210.JPG (256, 256, 3)\n",
            "> loaded alexandrine17.JPG (256, 256, 3)\n",
            "> loaded alexandrine171.JPG (256, 256, 3)\n",
            "> loaded alexandrine186.JPG (256, 256, 3)\n",
            "> loaded alexandrine9.JPG (256, 256, 3)\n",
            "> loaded alexandrine43.JPG (256, 256, 3)\n",
            "> loaded alexandrine96.JPG (256, 256, 3)\n",
            "> loaded alexandrine209.JPG (256, 256, 3)\n",
            "> loaded alexandrine22.JPG (256, 256, 3)\n",
            "> loaded alexandrine108.JPG (256, 256, 3)\n",
            "> loaded alexandrine137.JPG (256, 256, 3)\n",
            "> loaded alexandrine168.jpg (256, 256, 3)\n",
            "> loaded alexandrine23.JPG (256, 256, 3)\n",
            "> loaded alexandrine68.JPG (256, 256, 3)\n",
            "> loaded alexandrine136.jpg (256, 256, 3)\n",
            "> loaded alexandrine40.JPG (256, 256, 3)\n",
            "> loaded alexandrine122.JPG (256, 256, 3)\n",
            "> loaded alexandrine70.JPG (256, 256, 3)\n",
            "> loaded alexandrine130.JPG (256, 256, 3)\n",
            "> loaded alexandrine81.JPG (256, 256, 3)\n",
            "> loaded alexandrine206.JPG (256, 256, 3)\n",
            "> loaded alexandrine12.PNG (256, 256, 3)\n",
            "> loaded alexandrine27.JPG (256, 256, 3)\n",
            "> loaded alexandrine158.JPG (256, 256, 3)\n",
            "> loaded alexandrine72.JPG (256, 256, 3)\n",
            "> loaded alexandrine56.JPG (256, 256, 3)\n",
            "> loaded alexandrine71.JPG (256, 256, 3)\n",
            "> loaded alexandrine51.JPG (256, 256, 3)\n",
            "> loaded alexandrine90.JPG (256, 256, 3)\n",
            "> loaded alexandrine192.JPG (256, 256, 3)\n",
            "> loaded alexandrine114.jpg (256, 256, 3)\n",
            "> loaded alexandrine133.JPG (256, 256, 3)\n",
            "> loaded alexandrine74.JPG (256, 256, 3)\n",
            "> loaded alexandrine160.jpg (256, 256, 3)\n",
            "> loaded alexandrine66.JPG (256, 256, 3)\n",
            "> loaded alexandrine21.PNG (256, 256, 3)\n",
            "> loaded alexandrine188.JPG (256, 256, 3)\n",
            "> loaded alexandrine140.JPG (256, 256, 3)\n",
            "> loaded alexandrine156.JPG (256, 256, 3)\n",
            "> loaded alexandrine39.JPG (256, 256, 3)\n",
            "> loaded alexandrine184.JPG (256, 256, 3)\n",
            "> loaded alexandrine106.JPG (256, 256, 3)\n",
            "> loaded alexandrine111.JPG (256, 256, 3)\n",
            "> loaded alexandrine102.JPG (256, 256, 3)\n",
            "> loaded alexandrine19.JPG (256, 256, 3)\n",
            "> loaded alexandrine167.JPG (256, 256, 3)\n",
            "> loaded alexandrine119.JPG (256, 256, 3)\n",
            "> loaded alexandrine75.JPG (256, 256, 3)\n",
            "> loaded alexandrine154.jpg (256, 256, 3)\n",
            "> loaded alexandrine195.JPG (256, 256, 3)\n",
            "> loaded alexandrine159.jpg (256, 256, 3)\n",
            "> loaded alexandrine176.JPG (256, 256, 3)\n",
            "> loaded alexandrine194.JPG (256, 256, 3)\n",
            "> loaded alexandrine161.JPG (256, 256, 3)\n",
            "> loaded alexandrine203.JPG (256, 256, 3)\n",
            "> loaded alexandrine170.jpg (256, 256, 3)\n",
            "> loaded alexandrine142.JPG (256, 256, 3)\n",
            "> loaded alexandrine150.JPG (256, 256, 3)\n"
          ],
          "name": "stdout"
        }
      ]
    },
    {
      "cell_type": "markdown",
      "metadata": {
        "id": "PNSk1e29iNbG"
      },
      "source": [
        "\n",
        "Image data generator\n",
        "\n"
      ]
    },
    {
      "cell_type": "code",
      "metadata": {
        "id": "WC7gfMFAb8cq"
      },
      "source": [
        "from tensorflow.keras.preprocessing.image import ImageDataGenerator\n",
        "# Rescale all images by 1./255\n",
        "my_generator = ImageDataGenerator(rescale=1./255)"
      ],
      "execution_count": 23,
      "outputs": []
    },
    {
      "cell_type": "code",
      "metadata": {
        "colab": {
          "base_uri": "https://localhost:8080/"
        },
        "id": "w33ab2KHof-x",
        "outputId": "8db7443e-e111-4540-9fe9-a97aa68ae39a"
      },
      "source": [
        "image_generator = my_generator.flow_from_directory('./parakeets', target_size=(256, 256), batch_size=10, class_mode='categorical')"
      ],
      "execution_count": 24,
      "outputs": [
        {
          "output_type": "stream",
          "text": [
            "Found 2167 images belonging to 11 classes.\n"
          ],
          "name": "stdout"
        }
      ]
    },
    {
      "cell_type": "code",
      "metadata": {
        "colab": {
          "base_uri": "https://localhost:8080/",
          "height": 239
        },
        "id": "b10m5xPvDiOU",
        "outputId": "cfa26e57-f567-4db9-b699-89df0feeae0c"
      },
      "source": [
        "for my_batch in my_generator:\n",
        "    # my_batch is a tuple with images and labels\n",
        "    images = my_batch[0]\n",
        "    labels = my_batch[1]\n",
        "    for i in range(len(labels)):\n",
        "        # Gives one image and its corresponding label\n",
        "        plt.imshow(images[i])\n",
        "        plt.colorbar()\n",
        "        plt.show()\n",
        "        print(labels[i])\n",
        "    break\n",
        "      "
      ],
      "execution_count": 32,
      "outputs": [
        {
          "output_type": "error",
          "ename": "TypeError",
          "evalue": "ignored",
          "traceback": [
            "\u001b[0;31m---------------------------------------------------------------------------\u001b[0m",
            "\u001b[0;31mTypeError\u001b[0m                                 Traceback (most recent call last)",
            "\u001b[0;32m<ipython-input-32-d10c72b9985f>\u001b[0m in \u001b[0;36m<module>\u001b[0;34m()\u001b[0m\n\u001b[0;32m----> 1\u001b[0;31m \u001b[0;32mfor\u001b[0m \u001b[0mmy_batch\u001b[0m \u001b[0;32min\u001b[0m \u001b[0mmy_generator\u001b[0m\u001b[0;34m:\u001b[0m\u001b[0;34m\u001b[0m\u001b[0;34m\u001b[0m\u001b[0m\n\u001b[0m\u001b[1;32m      2\u001b[0m     \u001b[0;31m# my_batch is a tuple with images and labels\u001b[0m\u001b[0;34m\u001b[0m\u001b[0;34m\u001b[0m\u001b[0;34m\u001b[0m\u001b[0m\n\u001b[1;32m      3\u001b[0m     \u001b[0mimages\u001b[0m \u001b[0;34m=\u001b[0m \u001b[0mmy_batch\u001b[0m\u001b[0;34m[\u001b[0m\u001b[0;36m0\u001b[0m\u001b[0;34m]\u001b[0m\u001b[0;34m\u001b[0m\u001b[0;34m\u001b[0m\u001b[0m\n\u001b[1;32m      4\u001b[0m     \u001b[0mlabels\u001b[0m \u001b[0;34m=\u001b[0m \u001b[0mmy_batch\u001b[0m\u001b[0;34m[\u001b[0m\u001b[0;36m1\u001b[0m\u001b[0;34m]\u001b[0m\u001b[0;34m\u001b[0m\u001b[0;34m\u001b[0m\u001b[0m\n\u001b[1;32m      5\u001b[0m     \u001b[0;32mfor\u001b[0m \u001b[0mi\u001b[0m \u001b[0;32min\u001b[0m \u001b[0mrange\u001b[0m\u001b[0;34m(\u001b[0m\u001b[0mlen\u001b[0m\u001b[0;34m(\u001b[0m\u001b[0mlabels\u001b[0m\u001b[0;34m)\u001b[0m\u001b[0;34m)\u001b[0m\u001b[0;34m:\u001b[0m\u001b[0;34m\u001b[0m\u001b[0;34m\u001b[0m\u001b[0m\n",
            "\u001b[0;31mTypeError\u001b[0m: 'ImageDataGenerator' object is not iterable"
          ]
        }
      ]
    }
  ]
}